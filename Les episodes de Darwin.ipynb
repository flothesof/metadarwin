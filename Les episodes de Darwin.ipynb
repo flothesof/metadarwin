{
 "cells": [
  {
   "cell_type": "markdown",
   "metadata": {},
   "source": [
    "On va télécharger la page de l'édition courant de Sur les épaules de Darwin."
   ]
  },
  {
   "cell_type": "code",
   "execution_count": 1,
   "metadata": {
    "collapsed": true
   },
   "outputs": [],
   "source": [
    "import requests\n",
    "from bs4 import BeautifulSoup"
   ]
  },
  {
   "cell_type": "code",
   "execution_count": 42,
   "metadata": {
    "collapsed": true
   },
   "outputs": [],
   "source": [
    "r = requests.get('https://www.franceinter.fr/emissions/sur-les-epaules-de-darwin/sur-les-epaules-de-darwin-18-mars-2017')"
   ]
  },
  {
   "cell_type": "code",
   "execution_count": 43,
   "metadata": {
    "collapsed": true
   },
   "outputs": [],
   "source": [
    "soup = BeautifulSoup(r.text, 'html.parser')"
   ]
  },
  {
   "cell_type": "markdown",
   "metadata": {},
   "source": [
    "On va trouver l'élément `article`."
   ]
  },
  {
   "cell_type": "code",
   "execution_count": 44,
   "metadata": {
    "collapsed": false
   },
   "outputs": [],
   "source": [
    "article = soup.find('article')"
   ]
  },
  {
   "cell_type": "markdown",
   "metadata": {},
   "source": [
    "A partir de là, on peut trouver les titres : "
   ]
  },
  {
   "cell_type": "code",
   "execution_count": 45,
   "metadata": {
    "collapsed": false
   },
   "outputs": [
    {
     "data": {
      "text/plain": [
       "[<h2 class=\"chapo\">\n",
       "             Dans les traces du voyage...\n",
       "         </h2>,\n",
       " <h2>Articles scientifiques :</h2>,\n",
       " <h2>Livres:</h2>,\n",
       " <h2>Liens internet :</h2>,\n",
       " <h2>La programmation musicale:</h2>]"
      ]
     },
     "execution_count": 45,
     "metadata": {},
     "output_type": "execute_result"
    }
   ],
   "source": [
    "article.find_all('h2')"
   ]
  },
  {
   "cell_type": "code",
   "execution_count": 46,
   "metadata": {
    "collapsed": false
   },
   "outputs": [],
   "source": [
    "elements = {}\n",
    "for tag in article.find_all('h2'):\n",
    "    elements[tag.text.strip()] = tag.next_sibling.text "
   ]
  },
  {
   "cell_type": "code",
   "execution_count": 47,
   "metadata": {
    "collapsed": false
   },
   "outputs": [
    {
     "data": {
      "text/plain": [
       "{'Articles scientifiques :': 'Tobler R, Rohrlach A, Soubrier J, et coll. Aboriginal mitogenomes reveal 50,000 years of regionalism in Australia. Nature 2017, Mar 8 [publié en ligne, sous presse].Nielsen R, Akey JM, Jakobsson M, et coll. Tracing the peopling of the world through genomics. Nature 2017, 541:302-310.Nagle N, Ballantyne KN, van Oven M, et coll. Mitochondrial DNA diversity of present-day Aboriginal Australians and implications for human evolution in Oceania. Journal of Human Genetics 2017, 62:343-353.Mallick S, Li H, Lipson M, et coll. The Simons Genome Diversity Project: 300 genomes from 142 diverse populations. Nature 2016, 538:201-206.Pagani L, Lawson DJ, Jagoda E, et coll. Genomic analyses inform on migration events during the peopling of Eurasia. Nature 2016, 538:238-242.Malaspinas AS, Westaway MC, Muller C, et coll. A genomic history of Aboriginal Australia. Nature 2016, 538:207-214.Tucci S, Akey JM. Population genetics: A map of human wanderlust. Nature 2016, 538:179-180.Heupink TH, Subramanian S, Wright JL, et coll. Ancient mtDNA sequences from the First Australians revisited. Proceedings of the National Academy of Sciences USA 2016, 113:6892-7.Bergström A, Nagle N, Chen Y, et coll. Deep roots for Aboriginal Australian Y chromosomes. Current Biology 2016, 26:809-13.Michel V, Valladas H, Shen G, et coll. The earliest modern Homo sapiens in China? Journal of Human Evolution 2016, 101:101-104.Liu W, Martinón-Torres M, Cai YJ, et coll. The earliest unequivocally modern humans in southern China. Nature 2015, 526:696-9.Dennell R. Palaeoanthropology: Homo sapiens in China 80,000 years ago. Nature 2015, 526:647-8.Williams AN. A new population curve for prehistoric Australia. Proceedings of the Royal Society Biological Sciences 2013, 280:20130486.',\n",
       " 'Dans les traces du voyage...': \"« Voyageur, le chemin,\\nc’est les traces de tes pas, c'est tout ;\\nvoyageur, il n'y a pas de chemin,\\nle chemin se fait en marchant.\\nEn marchant se fait le chemin.\\n[…]\\nVoyageur, il n'y a pas de chemin,\\nrien que des sillages sur la mer. »\",\n",
       " 'La programmation musicale:': \"Jil Caplan - Est-ce que tu m'aimes - WarnerTinariwen - Sastanàqqàm - WedgeGeoffrey Gurrumul Yunupingu - Bapa - Dramatico\",\n",
       " 'Liens internet :': 'Australian Human Rights Commission. Bringing them Home Report (1997). Report of the National Inquiry into the Separation of Aboriginal and Torres Strait Islander Children from Their Families :Australian Government. Sorry Day and the Stolen Generations :',\n",
       " 'Livres:': 'Doris Pilkington/ Nugi Garimara. Follow the Rabbit-Proof Fence. University of Queensland Press. 2002 [Le chemin de la liberté, Editions Autrement, 2003, épuisé].Ryszard Kapuscinski. Mes voyages avec Hérodote. Pocket, 2008.Antonio Machado. Champs de Castille. Gallimard, Poésie, 1981.Claude Lévi-Strauss. Œuvres. Bibliothèque de la Pléiade, Gallimard, 2008.Ann McGrath, Mary Anne Jebb (Eds). Long History, Deep Time. Australian National University Press, Aboriginal History Monographs, 2015.Bruce Chatwin. Le chant des pistes. Le Livre de Poche, 1990.'}"
      ]
     },
     "execution_count": 47,
     "metadata": {},
     "output_type": "execute_result"
    }
   ],
   "source": [
    "elements"
   ]
  },
  {
   "cell_type": "code",
   "execution_count": 59,
   "metadata": {
    "collapsed": true
   },
   "outputs": [],
   "source": [
    "import re"
   ]
  },
  {
   "cell_type": "code",
   "execution_count": 69,
   "metadata": {
    "collapsed": false
   },
   "outputs": [
    {
     "data": {
      "text/plain": [
       "<ul><li><p>Tobler R, Rohrlach A, Soubrier J, et coll. <strong>Aboriginal mitogenomes reveal 50,000 years of regionalism in Australia</strong>. Nature 2017, Mar 8 [publié en ligne, sous presse].</p></li><li><p>Nielsen R, Akey JM, Jakobsson M, et coll. <strong>Tracing the peopling of the world through genomics</strong>. Nature 2017, 541:302-310.</p></li><li><p>Nagle N, Ballantyne KN, van Oven M, et coll. <strong>Mitochondrial DNA diversity of present-day Aboriginal Australians and implications for human evolution in Oceania</strong>. Journal of Human Genetics 2017, 62:343-353.</p></li><li><p>Mallick S, Li H, Lipson M, et coll. <strong>The Simons Genome Diversity Project: 300 genomes from 142 diverse populations</strong>. Nature 2016, 538:201-206.</p></li><li><p>Pagani L, Lawson DJ, Jagoda E, et coll. <strong>Genomic analyses inform on migration events during the peopling of Eurasia</strong>. Nature 2016, 538:238-242.</p></li><li><p>Malaspinas AS, Westaway MC, Muller C, et coll. <strong>A genomic history of Aboriginal Australia</strong>. Nature 2016, 538:207-214.</p></li><li><p>Tucci S, Akey JM. <strong>Population genetics: A map of human wanderlust</strong>. Nature 2016, 538:179-180.</p></li><li><p>Heupink TH, Subramanian S, Wright JL, et coll. <strong>Ancient mtDNA sequences from the First Australians revisited</strong>. Proceedings of the National Academy of Sciences USA 2016, 113:6892-7.</p></li><li><p>Bergström A, Nagle N, Chen Y, et coll. <strong>Deep roots for Aboriginal Australian Y chromosomes</strong>. Current Biology 2016, 26:809-13.</p></li><li><p>Michel V, Valladas H, Shen G, et coll. <strong>The earliest modern Homo sapiens in China?</strong> Journal of Human Evolution 2016, 101:101-104.</p></li><li><p>Liu W, Martinón-Torres M, Cai YJ, et coll. <strong>The earliest unequivocally modern humans in southern China</strong>. Nature 2015, 526:696-9.</p></li><li><p>Dennell R. Palaeoanthropology: <strong>Homo sapiens in China 80,000 years ago</strong>. Nature 2015, 526:647-8.</p></li><li>Williams AN. <strong>A new population curve for prehistoric Australia</strong>. Proceedings of the Royal Society Biological Sciences 2013, 280:20130486.</li></ul>"
      ]
     },
     "execution_count": 69,
     "metadata": {},
     "output_type": "execute_result"
    }
   ],
   "source": [
    "article.find('h2', text=re.compile('Articles*')).next_sibling"
   ]
  },
  {
   "cell_type": "markdown",
   "metadata": {},
   "source": [
    "On peut écrire une fonction pour ça :"
   ]
  },
  {
   "cell_type": "raw",
   "metadata": {},
   "source": [
    "def get_content(soup):\n",
    "    \"Récupère le contenu de la page.\"\n",
    "    article = soup.find('article')\n",
    "    elements = {}\n",
    "    elements['titre'] = soup.find('h1', class_='cover-portrait-actions-title').text.strip()\n",
    "    tag = article.find('h2', text=re.compile('Articles*'))\n",
    "    if tag is not None:\n",
    "        elements['articles'] = tag.next_sibling.text\n",
    "    return elements"
   ]
  },
  {
   "cell_type": "code",
   "execution_count": 126,
   "metadata": {
    "collapsed": true
   },
   "outputs": [],
   "source": [
    "def get_content(soup):\n",
    "    \"Récupère le contenu de la page.\"\n",
    "    elements = {}\n",
    "    elements['titre'] = soup.find('h1', class_='cover-portrait-actions-title').text.strip()\n",
    "    elements['article'] = soup.find('article')\n",
    "    return elements"
   ]
  },
  {
   "cell_type": "code",
   "execution_count": 127,
   "metadata": {
    "collapsed": false
   },
   "outputs": [
    {
     "data": {
      "text/plain": [
       "{'article': <article class=\"content-body\"><p><strong>Bibliographie:</strong></p><p><strong>L'origine des espèces de Charles Darwin aux Editions Flammarion Origines,</strong></p><div class=\"onf-ad\" id=\"sas_28990\"></div><script type=\"text/javascript\">\n",
       "     window._sasFormats = window._sasFormats || [];\n",
       " \n",
       "     window._sasFormats.push(function() {\n",
       "         window.sas.call('std', {\n",
       "             siteId:70662,\n",
       "             pageId:537605,\n",
       "             formatId:28990,\n",
       "             target: ''\n",
       "         });\n",
       "     });\n",
       " </script><p><strong>Lettres choisies (1828-1859)de Charles Darwin traduit de l'anglais par Mickael Popelard préface de Stefen Jay Gould aux Editions Bayard</strong></p><p><strong>L'expression des émotions chez les hommes et les animaux de Charles Darwin aux Editions Rivages</strong></p><p><strong>La lettre volée, d'Edgar Allan Poe, Ed Folio Gallimard</strong></p><p><strong>La mal-mesure de l'homme de Stephen Jay Gould aux Editions Odile Jacob</strong></p><p><strong>Identité et violence: l'illusion du destin d'Amartya Sen aux editions Odile Jacob</strong></p><p><strong>\"Dans la Lumière et les Ombres. Darwin et le bouleversement du monde\" de Jean-Claude Ameisen aux Editions Fayard / Seuil</strong></p><h3><strong>invité(s)</strong></h3><h3><strong>Charles Darwin 1809-1882</strong></h3><h3><strong>programmation musicale</strong></h3><h3><strong>Benjamin Biolay</strong></h3><p><strong>Si tu suis mon regard album: LA SUPERBElabel: NAIVE RECORDSparution: 2010</strong></p><h3><strong>Jane Birkin</strong></h3><p><strong>Apocalypstick album: EX FAN DES SIXTIESlabel: FONTANAparution: 1978</strong></p><h3><strong>Luke</strong></h3><p><strong>LE ROBOT album: LE ROBOTlabel: JIVE EPIC / SONYparution: 2010</strong></p><h3><strong>Cat power</strong></h3><p><strong>THE GREATEST album: THE GREATESTlabel: MATADORparution: 2006</strong></p><h3><strong>Amparo Sanchez et Omara Portuondo</strong></h3><p><strong>La parrandita de las santas album: TUCSON HABANAlabel: VIA LACTEA RECORDSparution: 2010</strong></p></article>,\n",
       " 'titre': \"La théorie de l'évolution de Charles Darwin\"}"
      ]
     },
     "execution_count": 127,
     "metadata": {},
     "output_type": "execute_result"
    }
   ],
   "source": [
    "get_content(soup)"
   ]
  },
  {
   "cell_type": "markdown",
   "metadata": {},
   "source": [
    "On peut également trouver d'autres liens : "
   ]
  },
  {
   "cell_type": "code",
   "execution_count": 128,
   "metadata": {
    "collapsed": false
   },
   "outputs": [],
   "source": [
    "def get_other_episodes(soup):\n",
    "    \"Trouve les liens vers d'autres épisodes de Darwin.\"\n",
    "    base = 'https://www.franceinter.fr'\n",
    "    links = soup.find_all('span', class_='preview-title')\n",
    "    links = [base + link.a.attrs['href'] for link in links if link.a.attrs['href'].startswith('/emissions/sur-les-epaules-de-darwin/')]\n",
    "    return links"
   ]
  },
  {
   "cell_type": "code",
   "execution_count": 129,
   "metadata": {
    "collapsed": false
   },
   "outputs": [
    {
     "data": {
      "text/plain": [
       "[<span class=\"preview-title\"><a href=\"/emissions/sur-les-epaules-de-darwin/sur-les-epaules-de-darwin-18-mars-2017\">Arpenter le monde (2)</a></span>,\n",
       " <span class=\"preview-title\"><a href=\"/emissions/sur-les-epaules-de-darwin/sur-les-epaules-de-darwin-11-mars-2017\">Le temps du Rêve</a></span>,\n",
       " <span class=\"preview-title\"><a href=\"/emissions/sur-les-epaules-de-darwin/sur-les-epaules-de-darwin-04-mars-2017\">La caverne de Liang Bua</a></span>]"
      ]
     },
     "execution_count": 129,
     "metadata": {},
     "output_type": "execute_result"
    }
   ],
   "source": [
    "soup.find_all('span', class_='preview-title')"
   ]
  },
  {
   "cell_type": "code",
   "execution_count": 130,
   "metadata": {
    "collapsed": false
   },
   "outputs": [
    {
     "data": {
      "text/plain": [
       "['https://www.franceinter.fr/emissions/sur-les-epaules-de-darwin/sur-les-epaules-de-darwin-18-mars-2017',\n",
       " 'https://www.franceinter.fr/emissions/sur-les-epaules-de-darwin/sur-les-epaules-de-darwin-11-mars-2017',\n",
       " 'https://www.franceinter.fr/emissions/sur-les-epaules-de-darwin/sur-les-epaules-de-darwin-04-mars-2017']"
      ]
     },
     "execution_count": 130,
     "metadata": {},
     "output_type": "execute_result"
    }
   ],
   "source": [
    "get_other_episodes(soup)"
   ]
  },
  {
   "cell_type": "markdown",
   "metadata": {},
   "source": [
    "On peut maintenant écrire un scraper."
   ]
  },
  {
   "cell_type": "code",
   "execution_count": 131,
   "metadata": {
    "collapsed": false
   },
   "outputs": [
    {
     "name": "stdout",
     "output_type": "stream",
     "text": [
      "downloaded sur-les-epaules-de-darwin-18-mars-2017\n",
      "downloaded sur-les-epaules-de-darwin-25-fevrier-2017\n",
      "downloaded sur-les-epaules-de-darwin-04-mars-2017\n",
      "downloaded sur-les-epaules-de-darwin-11-mars-2017\n"
     ]
    }
   ],
   "source": [
    "content = {}\n",
    "urls = ['https://www.franceinter.fr/emissions/sur-les-epaules-de-darwin/sur-les-epaules-de-darwin-18-mars-2017']\n",
    "while len(urls) > 0:\n",
    "    url = urls.pop()\n",
    "    r = requests.get(url)\n",
    "    soup = BeautifulSoup(r.text, 'html.parser')\n",
    "    content[url] = get_content(soup)\n",
    "    unseen_urls = [url for url in get_other_episodes(soup) if url not in content if url not in urls]\n",
    "    urls.extend(unseen_urls)\n",
    "    print('downloaded {}'.format(url.split('/')[-1]))"
   ]
  },
  {
   "cell_type": "code",
   "execution_count": 132,
   "metadata": {
    "collapsed": true
   },
   "outputs": [],
   "source": [
    "import pandas as pd"
   ]
  },
  {
   "cell_type": "code",
   "execution_count": 133,
   "metadata": {
    "collapsed": false
   },
   "outputs": [
    {
     "data": {
      "text/html": [
       "<div>\n",
       "<table border=\"1\" class=\"dataframe\">\n",
       "  <thead>\n",
       "    <tr style=\"text-align: right;\">\n",
       "      <th></th>\n",
       "      <th>article</th>\n",
       "      <th>titre</th>\n",
       "    </tr>\n",
       "  </thead>\n",
       "  <tbody>\n",
       "    <tr>\n",
       "      <th>https://www.franceinter.fr/emissions/sur-les-epaules-de-darwin/sur-les-epaules-de-darwin-04-mars-2017</th>\n",
       "      <td>&lt;article class=\"content-body\"&gt;&lt;h2 class=\"chapo...</td>\n",
       "      <td>La caverne de Liang Bua</td>\n",
       "    </tr>\n",
       "    <tr>\n",
       "      <th>https://www.franceinter.fr/emissions/sur-les-epaules-de-darwin/sur-les-epaules-de-darwin-11-mars-2017</th>\n",
       "      <td>&lt;article class=\"content-body\"&gt;&lt;h2 class=\"chapo...</td>\n",
       "      <td>Le temps du Rêve</td>\n",
       "    </tr>\n",
       "    <tr>\n",
       "      <th>https://www.franceinter.fr/emissions/sur-les-epaules-de-darwin/sur-les-epaules-de-darwin-18-mars-2017</th>\n",
       "      <td>&lt;article class=\"content-body\"&gt;&lt;h2 class=\"chapo...</td>\n",
       "      <td>Arpenter le monde (2)</td>\n",
       "    </tr>\n",
       "    <tr>\n",
       "      <th>https://www.franceinter.fr/emissions/sur-les-epaules-de-darwin/sur-les-epaules-de-darwin-25-fevrier-2017</th>\n",
       "      <td>&lt;article class=\"content-body\"&gt;&lt;h2 class=\"chapo...</td>\n",
       "      <td>Arpenter le monde</td>\n",
       "    </tr>\n",
       "  </tbody>\n",
       "</table>\n",
       "</div>"
      ],
      "text/plain": [
       "                                                                                              article  \\\n",
       "https://www.franceinter.fr/emissions/sur-les-ep...  <article class=\"content-body\"><h2 class=\"chapo...   \n",
       "https://www.franceinter.fr/emissions/sur-les-ep...  <article class=\"content-body\"><h2 class=\"chapo...   \n",
       "https://www.franceinter.fr/emissions/sur-les-ep...  <article class=\"content-body\"><h2 class=\"chapo...   \n",
       "https://www.franceinter.fr/emissions/sur-les-ep...  <article class=\"content-body\"><h2 class=\"chapo...   \n",
       "\n",
       "                                                                      titre  \n",
       "https://www.franceinter.fr/emissions/sur-les-ep...  La caverne de Liang Bua  \n",
       "https://www.franceinter.fr/emissions/sur-les-ep...         Le temps du Rêve  \n",
       "https://www.franceinter.fr/emissions/sur-les-ep...    Arpenter le monde (2)  \n",
       "https://www.franceinter.fr/emissions/sur-les-ep...        Arpenter le monde  "
      ]
     },
     "execution_count": 133,
     "metadata": {},
     "output_type": "execute_result"
    }
   ],
   "source": [
    "pd.DataFrame(content).transpose()"
   ]
  },
  {
   "cell_type": "markdown",
   "metadata": {},
   "source": [
    "# Et si on repartait de la page d'index des émissions "
   ]
  },
  {
   "cell_type": "code",
   "execution_count": 86,
   "metadata": {
    "collapsed": true
   },
   "outputs": [],
   "source": [
    "r = requests.get('https://www.franceinter.fr/emissions/sur-les-epaules-de-darwin')"
   ]
  },
  {
   "cell_type": "code",
   "execution_count": 88,
   "metadata": {
    "collapsed": false
   },
   "outputs": [],
   "source": [
    "soup = BeautifulSoup(r.text, 'html.parser')"
   ]
  },
  {
   "cell_type": "code",
   "execution_count": 99,
   "metadata": {
    "collapsed": false
   },
   "outputs": [
    {
     "data": {
      "text/plain": [
       "['https://www.franceinter.fr/emissions/sur-les-epaules-de-darwin/sur-les-epaules-de-darwin-18-mars-2017',\n",
       " 'https://www.franceinter.fr/emissions/sur-les-epaules-de-darwin/sur-les-epaules-de-darwin-11-mars-2017',\n",
       " 'https://www.franceinter.fr/emissions/sur-les-epaules-de-darwin/sur-les-epaules-de-darwin-04-mars-2017',\n",
       " 'https://www.franceinter.fr/emissions/sur-les-epaules-de-darwin/sur-les-epaules-de-darwin-25-fevrier-2017',\n",
       " 'https://www.franceinter.fr/emissions/sur-les-epaules-de-darwin/sur-les-epaules-de-darwin-18-fevrier-2017',\n",
       " 'https://www.franceinter.fr/emissions/sur-les-epaules-de-darwin/sur-les-epaules-de-darwin-11-fevrier-2017',\n",
       " 'https://www.franceinter.fr/emissions/sur-les-epaules-de-darwin/sur-les-epaules-de-darwin-04-fevrier-2017',\n",
       " 'https://www.franceinter.fr/emissions/sur-les-epaules-de-darwin/sur-les-epaules-de-darwin-28-janvier-2017',\n",
       " 'https://www.franceinter.fr/emissions/sur-les-epaules-de-darwin/sur-les-epaules-de-darwin-21-janvier-2017',\n",
       " 'https://www.franceinter.fr/emissions/sur-les-epaules-de-darwin/sur-les-epaules-de-darwin-14-janvier-2017',\n",
       " 'https://www.franceinter.fr/emissions/sur-les-epaules-de-darwin/sur-les-epaules-de-darwin-07-janvier-2017',\n",
       " 'https://www.franceinter.fr/emissions/sur-les-epaules-de-darwin/sur-les-epaules-de-darwin-31-decembre-2016',\n",
       " 'https://www.franceinter.fr/emissions/sur-les-epaules-de-darwin/sur-les-epaules-de-darwin-24-decembre-2016',\n",
       " 'https://www.franceinter.fr/emissions/sur-les-epaules-de-darwin/sur-les-epaules-de-darwin-17-decembre-2016',\n",
       " 'https://www.franceinter.fr/emissions/sur-les-epaules-de-darwin/sur-les-epaules-de-darwin-10-decembre-2016']"
      ]
     },
     "execution_count": 99,
     "metadata": {},
     "output_type": "execute_result"
    }
   ],
   "source": [
    "['https://www.franceinter.fr' + link.attrs['href'] for link in soup.find_all('a', class_='rich-section-list-item-content-title')]"
   ]
  },
  {
   "cell_type": "code",
   "execution_count": 96,
   "metadata": {
    "collapsed": false
   },
   "outputs": [
    {
     "data": {
      "text/plain": [
       "'/emissions/sur-les-epaules-de-darwin?p=23'"
      ]
     },
     "execution_count": 96,
     "metadata": {},
     "output_type": "execute_result"
    }
   ],
   "source": [
    "soup.find(class_='pager-item last').a.attrs['href']"
   ]
  },
  {
   "cell_type": "code",
   "execution_count": 137,
   "metadata": {
    "collapsed": true
   },
   "outputs": [],
   "source": [
    "urls = []\n",
    "for page in range(1, 24):\n",
    "    pageurl = 'https://www.franceinter.fr/emissions/sur-les-epaules-de-darwin?p={}'.format(page)\n",
    "    r = requests.get(pageurl)\n",
    "    soup = BeautifulSoup(r.text, 'html.parser')\n",
    "    urls.extend(['https://www.franceinter.fr' + link.attrs['href'] for link in soup.find_all('a', class_='rich-section-list-item-content-title')])"
   ]
  },
  {
   "cell_type": "code",
   "execution_count": 138,
   "metadata": {
    "collapsed": false
   },
   "outputs": [
    {
     "data": {
      "text/plain": [
       "341"
      ]
     },
     "execution_count": 138,
     "metadata": {},
     "output_type": "execute_result"
    }
   ],
   "source": [
    "len(urls)"
   ]
  },
  {
   "cell_type": "markdown",
   "metadata": {},
   "source": [
    "Maintenant la boucle de scraping :"
   ]
  },
  {
   "cell_type": "code",
   "execution_count": 139,
   "metadata": {
    "collapsed": true
   },
   "outputs": [],
   "source": [
    "from ipywidgets import IntProgress\n",
    "from IPython.display import display"
   ]
  },
  {
   "cell_type": "code",
   "execution_count": 140,
   "metadata": {
    "collapsed": false
   },
   "outputs": [
    {
     "data": {
      "application/vnd.jupyter.widget-view+json": {
       "model_id": "7780f98958d84367b9f5e9f2998466f0"
      }
     },
     "metadata": {},
     "output_type": "display_data"
    }
   ],
   "source": [
    "progress = IntProgress(min=0, max=len(urls))\n",
    "display(progress)\n",
    "content = {}\n",
    "for ind, url in enumerate(urls):\n",
    "    r = requests.get(url)\n",
    "    soup = BeautifulSoup(r.text, 'html.parser')\n",
    "    content[url] = get_content(soup)\n",
    "    progress.value = ind"
   ]
  },
  {
   "cell_type": "markdown",
   "metadata": {},
   "source": [
    "On peut construire le tableau de résultats."
   ]
  },
  {
   "cell_type": "code",
   "execution_count": 226,
   "metadata": {
    "collapsed": false
   },
   "outputs": [],
   "source": [
    "df = pd.DataFrame(content).transpose()"
   ]
  },
  {
   "cell_type": "code",
   "execution_count": 227,
   "metadata": {
    "collapsed": false
   },
   "outputs": [
    {
     "data": {
      "text/html": [
       "<div>\n",
       "<table border=\"1\" class=\"dataframe\">\n",
       "  <thead>\n",
       "    <tr style=\"text-align: right;\">\n",
       "      <th></th>\n",
       "      <th>article</th>\n",
       "      <th>titre</th>\n",
       "    </tr>\n",
       "  </thead>\n",
       "  <tbody>\n",
       "    <tr>\n",
       "      <th>count</th>\n",
       "      <td>341</td>\n",
       "      <td>341</td>\n",
       "    </tr>\n",
       "    <tr>\n",
       "      <th>unique</th>\n",
       "      <td>340</td>\n",
       "      <td>276</td>\n",
       "    </tr>\n",
       "    <tr>\n",
       "      <th>top</th>\n",
       "      <td>&lt;article class=\"content-body\"&gt;&lt;blockquote clas...</td>\n",
       "      <td>La découverte du Nouveau Monde (3)</td>\n",
       "    </tr>\n",
       "    <tr>\n",
       "      <th>freq</th>\n",
       "      <td>2</td>\n",
       "      <td>3</td>\n",
       "    </tr>\n",
       "  </tbody>\n",
       "</table>\n",
       "</div>"
      ],
      "text/plain": [
       "                                                  article  \\\n",
       "count                                                 341   \n",
       "unique                                                340   \n",
       "top     <article class=\"content-body\"><blockquote clas...   \n",
       "freq                                                    2   \n",
       "\n",
       "                                     titre  \n",
       "count                                  341  \n",
       "unique                                 276  \n",
       "top     La découverte du Nouveau Monde (3)  \n",
       "freq                                     3  "
      ]
     },
     "execution_count": 227,
     "metadata": {},
     "output_type": "execute_result"
    }
   ],
   "source": [
    "df.describe()"
   ]
  },
  {
   "cell_type": "markdown",
   "metadata": {},
   "source": [
    "Cherchons dans ces articles :"
   ]
  },
  {
   "cell_type": "code",
   "execution_count": 228,
   "metadata": {
    "collapsed": true
   },
   "outputs": [],
   "source": [
    "df['rawtext'] = [tag.text for tag in df.article]"
   ]
  },
  {
   "cell_type": "markdown",
   "metadata": {},
   "source": [
    "On va aussi rajouter les dates dans l'index."
   ]
  },
  {
   "cell_type": "code",
   "execution_count": 229,
   "metadata": {
    "collapsed": false
   },
   "outputs": [],
   "source": [
    "def convert(string):\n",
    "    months = {'janvier':1,\n",
    "     'fevrier':2,\n",
    "     'mars':3,\n",
    "     'avril':4,\n",
    "     'mai':5,\n",
    "     'juin':6,\n",
    "     'juillet':7,\n",
    "     'aout':8,\n",
    "     'septembre':9,\n",
    "     'octobre':10,\n",
    "     'novembre':11,\n",
    "     'decembre': 12}\n",
    "    new_string = ' '.join(str(months.get(month) for month in string.split('-')[1]))\n",
    "    return new_string"
   ]
  },
  {
   "cell_type": "code",
   "execution_count": 230,
   "metadata": {
    "collapsed": false
   },
   "outputs": [
    {
     "data": {
      "text/plain": [
       "'< g e n e r a t o r   o b j e c t   c o n v e r t . < l o c a l s > . < g e n e x p r >   a t   0 x 1 2 b 9 e 8 0 4 8 >'"
      ]
     },
     "execution_count": 230,
     "metadata": {},
     "output_type": "execute_result"
    }
   ],
   "source": [
    "convert('01-aout-2015')"
   ]
  },
  {
   "cell_type": "code",
   "execution_count": 231,
   "metadata": {
    "collapsed": false
   },
   "outputs": [
    {
     "data": {
      "text/plain": [
       "'https://www.franceinter.fr/emissions/sur-les-epaules-de-darwin/sur-les-epaules-de-darwin-01-aout-2015'"
      ]
     },
     "execution_count": 231,
     "metadata": {},
     "output_type": "execute_result"
    }
   ],
   "source": [
    "df.index[0]"
   ]
  },
  {
   "cell_type": "code",
   "execution_count": 241,
   "metadata": {
    "collapsed": false
   },
   "outputs": [
    {
     "data": {
      "text/plain": [
       "(2, 3)"
      ]
     },
     "execution_count": 241,
     "metadata": {},
     "output_type": "execute_result"
    }
   ],
   "source": [
    "results = df[df.rawtext.str.contains('antoine', case=False)]\n",
    "results.shape"
   ]
  },
  {
   "cell_type": "code",
   "execution_count": 242,
   "metadata": {
    "collapsed": true
   },
   "outputs": [],
   "source": [
    "from ipywidgets import interact\n",
    "from IPython.display import HTML"
   ]
  },
  {
   "cell_type": "code",
   "execution_count": 243,
   "metadata": {
    "collapsed": false
   },
   "outputs": [
    {
     "data": {
      "application/vnd.jupyter.widget-view+json": {
       "model_id": "40c7b0c3239841efbf2423dd311bff83"
      }
     },
     "metadata": {},
     "output_type": "display_data"
    }
   ],
   "source": [
    "@interact\n",
    "def display_results(n=(0, results.index.size - 1)):\n",
    "    display(HTML(data='<a href=\"{}\">source</a>'.format(results.index[n]) + str(results.article.iloc[n])))"
   ]
  },
  {
   "cell_type": "code",
   "execution_count": null,
   "metadata": {
    "collapsed": true
   },
   "outputs": [],
   "source": []
  },
  {
   "cell_type": "markdown",
   "metadata": {},
   "source": [
    "#  Sauvegarde"
   ]
  },
  {
   "cell_type": "code",
   "execution_count": 145,
   "metadata": {
    "collapsed": true,
    "deletable": true,
    "editable": true
   },
   "outputs": [],
   "source": [
    "df.to_json('emissions.json')"
   ]
  }
 ],
 "metadata": {
  "kernelspec": {
   "display_name": "Python 3",
   "language": "python",
   "name": "python3"
  },
  "language_info": {
   "codemirror_mode": {
    "name": "ipython",
    "version": 3
   },
   "file_extension": ".py",
   "mimetype": "text/x-python",
   "name": "python",
   "nbconvert_exporter": "python",
   "pygments_lexer": "ipython3",
   "version": "3.5.2"
  }
 },
 "nbformat": 4,
 "nbformat_minor": 2
}
